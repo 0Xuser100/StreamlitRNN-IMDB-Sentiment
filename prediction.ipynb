{
 "cells": [
  {
   "cell_type": "code",
   "execution_count": 8,
   "metadata": {},
   "outputs": [],
   "source": [
    "# Step 1: Import Libraries and Load the Model\n",
    "import numpy as np\n",
    "import tensorflow as tf\n",
    "from tensorflow.keras.datasets import imdb\n",
    "from tensorflow.keras.preprocessing import sequence\n",
    "from tensorflow.keras.models import load_model"
   ]
  },
  {
   "cell_type": "code",
   "execution_count": 9,
   "metadata": {},
   "outputs": [],
   "source": [
    "\n",
    "# Load the IMDB dataset word index\n",
    "word_index = imdb.get_word_index()\n",
    "reverse_word_index = {value: key for key, value in word_index.items()}"
   ]
  },
  {
   "cell_type": "code",
   "execution_count": 10,
   "metadata": {},
   "outputs": [
    {
     "name": "stderr",
     "output_type": "stream",
     "text": [
      "WARNING:absl:Compiled the loaded model, but the compiled metrics have yet to be built. `model.compile_metrics` will be empty until you train or evaluate the model.\n"
     ]
    },
    {
     "data": {
      "text/html": [
       "<pre style=\"white-space:pre;overflow-x:auto;line-height:normal;font-family:Menlo,'DejaVu Sans Mono',consolas,'Courier New',monospace\"><span style=\"font-weight: bold\">Model: \"sequential\"</span>\n",
       "</pre>\n"
      ],
      "text/plain": [
       "\u001b[1mModel: \"sequential\"\u001b[0m\n"
      ]
     },
     "metadata": {},
     "output_type": "display_data"
    },
    {
     "data": {
      "text/html": [
       "<pre style=\"white-space:pre;overflow-x:auto;line-height:normal;font-family:Menlo,'DejaVu Sans Mono',consolas,'Courier New',monospace\">┏━━━━━━━━━━━━━━━━━━━━━━━━━━━━━━━━━┳━━━━━━━━━━━━━━━━━━━━━━━━┳━━━━━━━━━━━━━━━┓\n",
       "┃<span style=\"font-weight: bold\"> Layer (type)                    </span>┃<span style=\"font-weight: bold\"> Output Shape           </span>┃<span style=\"font-weight: bold\">       Param # </span>┃\n",
       "┡━━━━━━━━━━━━━━━━━━━━━━━━━━━━━━━━━╇━━━━━━━━━━━━━━━━━━━━━━━━╇━━━━━━━━━━━━━━━┩\n",
       "│ embedding (<span style=\"color: #0087ff; text-decoration-color: #0087ff\">Embedding</span>)           │ (<span style=\"color: #00af00; text-decoration-color: #00af00\">32</span>, <span style=\"color: #00af00; text-decoration-color: #00af00\">500</span>, <span style=\"color: #00af00; text-decoration-color: #00af00\">128</span>)         │     <span style=\"color: #00af00; text-decoration-color: #00af00\">1,280,000</span> │\n",
       "├─────────────────────────────────┼────────────────────────┼───────────────┤\n",
       "│ simple_rnn (<span style=\"color: #0087ff; text-decoration-color: #0087ff\">SimpleRNN</span>)          │ (<span style=\"color: #00af00; text-decoration-color: #00af00\">32</span>, <span style=\"color: #00af00; text-decoration-color: #00af00\">128</span>)              │        <span style=\"color: #00af00; text-decoration-color: #00af00\">32,896</span> │\n",
       "├─────────────────────────────────┼────────────────────────┼───────────────┤\n",
       "│ dense (<span style=\"color: #0087ff; text-decoration-color: #0087ff\">Dense</span>)                   │ (<span style=\"color: #00af00; text-decoration-color: #00af00\">32</span>, <span style=\"color: #00af00; text-decoration-color: #00af00\">1</span>)                │           <span style=\"color: #00af00; text-decoration-color: #00af00\">129</span> │\n",
       "└─────────────────────────────────┴────────────────────────┴───────────────┘\n",
       "</pre>\n"
      ],
      "text/plain": [
       "┏━━━━━━━━━━━━━━━━━━━━━━━━━━━━━━━━━┳━━━━━━━━━━━━━━━━━━━━━━━━┳━━━━━━━━━━━━━━━┓\n",
       "┃\u001b[1m \u001b[0m\u001b[1mLayer (type)                   \u001b[0m\u001b[1m \u001b[0m┃\u001b[1m \u001b[0m\u001b[1mOutput Shape          \u001b[0m\u001b[1m \u001b[0m┃\u001b[1m \u001b[0m\u001b[1m      Param #\u001b[0m\u001b[1m \u001b[0m┃\n",
       "┡━━━━━━━━━━━━━━━━━━━━━━━━━━━━━━━━━╇━━━━━━━━━━━━━━━━━━━━━━━━╇━━━━━━━━━━━━━━━┩\n",
       "│ embedding (\u001b[38;5;33mEmbedding\u001b[0m)           │ (\u001b[38;5;34m32\u001b[0m, \u001b[38;5;34m500\u001b[0m, \u001b[38;5;34m128\u001b[0m)         │     \u001b[38;5;34m1,280,000\u001b[0m │\n",
       "├─────────────────────────────────┼────────────────────────┼───────────────┤\n",
       "│ simple_rnn (\u001b[38;5;33mSimpleRNN\u001b[0m)          │ (\u001b[38;5;34m32\u001b[0m, \u001b[38;5;34m128\u001b[0m)              │        \u001b[38;5;34m32,896\u001b[0m │\n",
       "├─────────────────────────────────┼────────────────────────┼───────────────┤\n",
       "│ dense (\u001b[38;5;33mDense\u001b[0m)                   │ (\u001b[38;5;34m32\u001b[0m, \u001b[38;5;34m1\u001b[0m)                │           \u001b[38;5;34m129\u001b[0m │\n",
       "└─────────────────────────────────┴────────────────────────┴───────────────┘\n"
      ]
     },
     "metadata": {},
     "output_type": "display_data"
    },
    {
     "data": {
      "text/html": [
       "<pre style=\"white-space:pre;overflow-x:auto;line-height:normal;font-family:Menlo,'DejaVu Sans Mono',consolas,'Courier New',monospace\"><span style=\"font-weight: bold\"> Total params: </span><span style=\"color: #00af00; text-decoration-color: #00af00\">1,313,027</span> (5.01 MB)\n",
       "</pre>\n"
      ],
      "text/plain": [
       "\u001b[1m Total params: \u001b[0m\u001b[38;5;34m1,313,027\u001b[0m (5.01 MB)\n"
      ]
     },
     "metadata": {},
     "output_type": "display_data"
    },
    {
     "data": {
      "text/html": [
       "<pre style=\"white-space:pre;overflow-x:auto;line-height:normal;font-family:Menlo,'DejaVu Sans Mono',consolas,'Courier New',monospace\"><span style=\"font-weight: bold\"> Trainable params: </span><span style=\"color: #00af00; text-decoration-color: #00af00\">1,313,025</span> (5.01 MB)\n",
       "</pre>\n"
      ],
      "text/plain": [
       "\u001b[1m Trainable params: \u001b[0m\u001b[38;5;34m1,313,025\u001b[0m (5.01 MB)\n"
      ]
     },
     "metadata": {},
     "output_type": "display_data"
    },
    {
     "data": {
      "text/html": [
       "<pre style=\"white-space:pre;overflow-x:auto;line-height:normal;font-family:Menlo,'DejaVu Sans Mono',consolas,'Courier New',monospace\"><span style=\"font-weight: bold\"> Non-trainable params: </span><span style=\"color: #00af00; text-decoration-color: #00af00\">0</span> (0.00 B)\n",
       "</pre>\n"
      ],
      "text/plain": [
       "\u001b[1m Non-trainable params: \u001b[0m\u001b[38;5;34m0\u001b[0m (0.00 B)\n"
      ]
     },
     "metadata": {},
     "output_type": "display_data"
    },
    {
     "data": {
      "text/html": [
       "<pre style=\"white-space:pre;overflow-x:auto;line-height:normal;font-family:Menlo,'DejaVu Sans Mono',consolas,'Courier New',monospace\"><span style=\"font-weight: bold\"> Optimizer params: </span><span style=\"color: #00af00; text-decoration-color: #00af00\">2</span> (12.00 B)\n",
       "</pre>\n"
      ],
      "text/plain": [
       "\u001b[1m Optimizer params: \u001b[0m\u001b[38;5;34m2\u001b[0m (12.00 B)\n"
      ]
     },
     "metadata": {},
     "output_type": "display_data"
    }
   ],
   "source": [
    "# Load the pre-trained model with ReLU activation\n",
    "model = load_model('simple_rnn_imdb.h5')\n",
    "model.summary()"
   ]
  },
  {
   "cell_type": "code",
   "execution_count": 11,
   "metadata": {},
   "outputs": [
    {
     "data": {
      "text/plain": [
       "[array([[-1.59601724e+00, -1.18415773e+00, -1.30913746e+00, ...,\n",
       "         -1.15535700e+00,  8.54310632e-01,  1.05344117e+00],\n",
       "        [-3.89981233e-02,  4.42927554e-02, -5.92544414e-02, ...,\n",
       "         -1.94678418e-02,  5.20920195e-03,  1.13289274e-01],\n",
       "        [-4.38462272e-02,  1.90988686e-02, -6.99635036e-03, ...,\n",
       "          5.27730398e-02, -8.14412385e-02, -7.06459209e-02],\n",
       "        ...,\n",
       "        [ 4.04066741e-02,  5.95142879e-02, -1.36099309e-01, ...,\n",
       "          1.29738763e-01,  2.95406282e-02,  4.10935432e-02],\n",
       "        [-1.73409618e-02, -2.65499437e-03, -5.86191844e-03, ...,\n",
       "          5.00435126e-04, -6.77800924e-03,  4.23817756e-03],\n",
       "        [ 1.48883583e-02, -4.88274060e-02, -6.45852759e-02, ...,\n",
       "         -3.58541347e-02,  1.68071948e-02,  7.97852799e-02]], dtype=float32),\n",
       " array([[-0.1543553 , -0.01847366,  0.06921248, ..., -0.10458866,\n",
       "          0.0974852 ,  0.02828211],\n",
       "        [-0.09682484,  0.06469982, -0.0317394 , ..., -0.12583822,\n",
       "         -0.08155382, -0.15555224],\n",
       "        [ 0.06756774,  0.09034263,  0.17410244, ...,  0.06147473,\n",
       "         -0.04289961, -0.13141075],\n",
       "        ...,\n",
       "        [-0.1674396 , -0.04367262,  0.05297823, ..., -0.08857298,\n",
       "         -0.04102631, -0.00818655],\n",
       "        [ 0.04762009,  0.01579376, -0.1198923 , ..., -0.02769519,\n",
       "          0.04490797,  0.10608862],\n",
       "        [ 0.16303891, -0.002608  , -0.12473354, ...,  0.11290646,\n",
       "          0.07818433, -0.02264192]], dtype=float32),\n",
       " array([[ 0.02550378,  0.15455824, -0.02082722, ..., -0.07850774,\n",
       "          0.07824142, -0.1077302 ],\n",
       "        [ 0.05349846,  0.01768942,  0.06299528, ...,  0.02291504,\n",
       "         -0.02617198,  0.06949614],\n",
       "        [-0.04296098,  0.09388886, -0.01132755, ...,  0.15649025,\n",
       "         -0.02330549,  0.09825665],\n",
       "        ...,\n",
       "        [ 0.16501224, -0.04000526, -0.18772067, ..., -0.07047065,\n",
       "         -0.03098317,  0.05676368],\n",
       "        [ 0.11688975, -0.01196926,  0.08862311, ..., -0.08462124,\n",
       "         -0.09015489, -0.02860653],\n",
       "        [-0.16449648, -0.13349958, -0.01975123, ...,  0.02949548,\n",
       "         -0.12644923, -0.03072665]], dtype=float32),\n",
       " array([-0.01844027,  0.01183448,  0.02201384, -0.02066128, -0.02054896,\n",
       "        -0.00799935,  0.03009376,  0.0142555 , -0.01293434, -0.0470117 ,\n",
       "        -0.01537775, -0.02181588, -0.01733778,  0.00962636, -0.00623434,\n",
       "        -0.00897716,  0.01402704,  0.00545644,  0.01965429,  0.03513667,\n",
       "         0.02889977,  0.03881631,  0.02248489,  0.01871069, -0.01505765,\n",
       "         0.03523486,  0.01951637, -0.02412023,  0.00296553, -0.01693981,\n",
       "        -0.02093905, -0.03363353, -0.02282081, -0.03544468, -0.02785508,\n",
       "         0.03568445,  0.01736036,  0.02449496,  0.00574713, -0.01449628,\n",
       "        -0.01803384,  0.03537362,  0.00668737,  0.03207034,  0.02753926,\n",
       "        -0.00765554,  0.00214169, -0.01338705,  0.0522324 ,  0.01501886,\n",
       "        -0.01631693, -0.0265225 , -0.02021651, -0.00269223,  0.00946935,\n",
       "        -0.0087161 , -0.02151969, -0.02509169, -0.03921605, -0.00797751,\n",
       "        -0.01668332,  0.00537563, -0.00969796, -0.02047464, -0.02786868,\n",
       "        -0.00727618, -0.02537779,  0.00284585, -0.02312833, -0.03966451,\n",
       "         0.0189239 , -0.02768601, -0.04109244, -0.02954575,  0.00506091,\n",
       "        -0.02140193,  0.00873434,  0.00250963,  0.00169231, -0.02764272,\n",
       "        -0.02542366,  0.00445319, -0.03043056,  0.01520911, -0.0133421 ,\n",
       "         0.02760707, -0.03098074,  0.01026967,  0.00013714, -0.02452926,\n",
       "        -0.007602  ,  0.0558148 ,  0.0182851 , -0.06168524,  0.01446878,\n",
       "        -0.02467274,  0.01546153, -0.0218756 , -0.0041654 , -0.02246356,\n",
       "        -0.02430553,  0.02024763, -0.01956412, -0.01466008,  0.00312221,\n",
       "        -0.00422175,  0.01789498, -0.02284064, -0.00343243,  0.01297441,\n",
       "        -0.0349365 , -0.01922283,  0.01164881, -0.02624865, -0.061403  ,\n",
       "         0.00412824, -0.02138889,  0.02246808,  0.0017628 , -0.04724487,\n",
       "         0.00248725,  0.003366  , -0.0130454 , -0.00038468, -0.02552501,\n",
       "         0.05452805, -0.02412361,  0.02749846], dtype=float32),\n",
       " array([[ 0.08436251],\n",
       "        [ 0.07956068],\n",
       "        [-0.03972591],\n",
       "        [ 0.00834168],\n",
       "        [ 0.17165315],\n",
       "        [ 0.21491733],\n",
       "        [ 0.15172803],\n",
       "        [-0.17108268],\n",
       "        [ 0.3012359 ],\n",
       "        [ 0.14383115],\n",
       "        [ 0.0269711 ],\n",
       "        [ 0.18344592],\n",
       "        [ 0.12538968],\n",
       "        [ 0.12434923],\n",
       "        [ 0.1510978 ],\n",
       "        [ 0.16248229],\n",
       "        [ 0.07005135],\n",
       "        [-0.10506611],\n",
       "        [-0.05965675],\n",
       "        [-0.2094035 ],\n",
       "        [ 0.1058072 ],\n",
       "        [-0.06430139],\n",
       "        [ 0.04451922],\n",
       "        [ 0.33149603],\n",
       "        [ 0.00116738],\n",
       "        [-0.19198412],\n",
       "        [ 0.13993761],\n",
       "        [ 0.57212764],\n",
       "        [-0.24028765],\n",
       "        [ 0.41046828],\n",
       "        [ 0.17640772],\n",
       "        [ 0.07866397],\n",
       "        [ 0.0287999 ],\n",
       "        [ 0.03417536],\n",
       "        [ 0.7076535 ],\n",
       "        [ 0.04040978],\n",
       "        [ 0.25960007],\n",
       "        [-0.2432013 ],\n",
       "        [-0.16519548],\n",
       "        [-0.12827626],\n",
       "        [ 0.19539225],\n",
       "        [ 0.10411548],\n",
       "        [ 0.11484154],\n",
       "        [-0.21894306],\n",
       "        [-0.12442871],\n",
       "        [-0.00528469],\n",
       "        [-0.06378089],\n",
       "        [-0.3775548 ],\n",
       "        [-0.16514094],\n",
       "        [-0.05587049],\n",
       "        [ 0.11021706],\n",
       "        [ 0.06798264],\n",
       "        [ 0.08066768],\n",
       "        [-0.19292234],\n",
       "        [-0.272307  ],\n",
       "        [ 0.05941295],\n",
       "        [-0.21903104],\n",
       "        [ 0.12893417],\n",
       "        [-0.04864171],\n",
       "        [-0.37732235],\n",
       "        [-0.23278798],\n",
       "        [-0.1427958 ],\n",
       "        [-0.25396052],\n",
       "        [-0.17126825],\n",
       "        [ 0.13179454],\n",
       "        [-0.10531454],\n",
       "        [ 0.10830064],\n",
       "        [-0.10950997],\n",
       "        [ 0.14133443],\n",
       "        [ 0.03909308],\n",
       "        [-0.18601143],\n",
       "        [-0.16333312],\n",
       "        [ 0.18194388],\n",
       "        [ 0.17933743],\n",
       "        [ 0.14723621],\n",
       "        [ 0.15071747],\n",
       "        [-0.39897105],\n",
       "        [-0.86017084],\n",
       "        [-0.06187319],\n",
       "        [ 0.20070235],\n",
       "        [ 0.12761177],\n",
       "        [ 0.04977395],\n",
       "        [-0.21172614],\n",
       "        [-0.1159258 ],\n",
       "        [ 0.1543473 ],\n",
       "        [-0.18658045],\n",
       "        [ 0.11399443],\n",
       "        [ 0.07432095],\n",
       "        [ 0.18892373],\n",
       "        [ 0.27388012],\n",
       "        [-0.17352915],\n",
       "        [-0.16621971],\n",
       "        [-0.03956337],\n",
       "        [ 0.1378472 ],\n",
       "        [-0.08547185],\n",
       "        [-0.07644605],\n",
       "        [ 0.16740859],\n",
       "        [ 0.15237373],\n",
       "        [ 0.47286716],\n",
       "        [-0.09790505],\n",
       "        [ 0.08228569],\n",
       "        [ 0.15469708],\n",
       "        [-0.2779152 ],\n",
       "        [-0.04187499],\n",
       "        [-0.27211297],\n",
       "        [ 0.120998  ],\n",
       "        [-0.24590683],\n",
       "        [-0.1666063 ],\n",
       "        [ 0.03230412],\n",
       "        [-0.13107827],\n",
       "        [ 0.09331584],\n",
       "        [-0.0691846 ],\n",
       "        [ 0.15392637],\n",
       "        [ 0.38117972],\n",
       "        [-0.07225253],\n",
       "        [ 0.05271984],\n",
       "        [ 0.04673073],\n",
       "        [-0.0995217 ],\n",
       "        [ 0.14756523],\n",
       "        [ 0.2138052 ],\n",
       "        [-0.09597476],\n",
       "        [-0.03877586],\n",
       "        [-0.24163446],\n",
       "        [ 0.11578011],\n",
       "        [ 0.17264599],\n",
       "        [-0.03812861],\n",
       "        [-0.03772892],\n",
       "        [-0.06566969]], dtype=float32),\n",
       " array([0.3424834], dtype=float32)]"
      ]
     },
     "execution_count": 11,
     "metadata": {},
     "output_type": "execute_result"
    }
   ],
   "source": [
    "model.get_weights()"
   ]
  },
  {
   "cell_type": "code",
   "execution_count": 12,
   "metadata": {},
   "outputs": [],
   "source": [
    "# Step 2: Helper Functions\n",
    "# Function to decode reviews\n",
    "def decode_review(encoded_review):\n",
    "    return ' '.join([reverse_word_index.get(i - 3, '?') for i in encoded_review])\n",
    "\n",
    "# Function to preprocess user input\n",
    "def preprocess_text(text):\n",
    "    words = text.lower().split()\n",
    "    encoded_review = [word_index.get(word, 2) + 3 for word in words]\n",
    "    padded_review = sequence.pad_sequences([encoded_review], maxlen=500)\n",
    "    return padded_review"
   ]
  },
  {
   "cell_type": "code",
   "execution_count": 13,
   "metadata": {},
   "outputs": [],
   "source": [
    "### Prediction  function\n",
    "\n",
    "def predict_sentiment(review):\n",
    "    preprocessed_input=preprocess_text(review)\n",
    "\n",
    "    prediction=model.predict(preprocessed_input)\n",
    "\n",
    "    sentiment = 'Positive' if prediction[0][0] > 0.5 else 'Negative'\n",
    "    \n",
    "    return sentiment, prediction[0][0]\n",
    "\n"
   ]
  },
  {
   "cell_type": "code",
   "execution_count": 14,
   "metadata": {},
   "outputs": [
    {
     "name": "stdout",
     "output_type": "stream",
     "text": [
      "\u001b[1m1/1\u001b[0m \u001b[32m━━━━━━━━━━━━━━━━━━━━\u001b[0m\u001b[37m\u001b[0m \u001b[1m0s\u001b[0m 212ms/step\n",
      "Review: This movie was fantastic! The acting was great and the plot was thrilling.\n",
      "Sentiment: Positive\n",
      "Prediction Score: 0.7949532270431519\n"
     ]
    }
   ],
   "source": [
    "# Step 4: User Input and Prediction\n",
    "# Example review for prediction\n",
    "example_review = \"This movie was fantastic! The acting was great and the plot was thrilling.\"\n",
    "\n",
    "sentiment,score=predict_sentiment(example_review)\n",
    "\n",
    "print(f'Review: {example_review}')\n",
    "print(f'Sentiment: {sentiment}')\n",
    "print(f'Prediction Score: {score}')"
   ]
  },
  {
   "cell_type": "code",
   "execution_count": null,
   "metadata": {},
   "outputs": [],
   "source": []
  },
  {
   "cell_type": "code",
   "execution_count": null,
   "metadata": {},
   "outputs": [],
   "source": []
  },
  {
   "cell_type": "code",
   "execution_count": null,
   "metadata": {},
   "outputs": [],
   "source": []
  },
  {
   "cell_type": "code",
   "execution_count": null,
   "metadata": {},
   "outputs": [],
   "source": []
  }
 ],
 "metadata": {
  "kernelspec": {
   "display_name": "Python 3",
   "language": "python",
   "name": "python3"
  },
  "language_info": {
   "codemirror_mode": {
    "name": "ipython",
    "version": 3
   },
   "file_extension": ".py",
   "mimetype": "text/x-python",
   "name": "python",
   "nbconvert_exporter": "python",
   "pygments_lexer": "ipython3",
   "version": "3.12.6"
  }
 },
 "nbformat": 4,
 "nbformat_minor": 2
}
